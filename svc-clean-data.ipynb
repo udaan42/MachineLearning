{
 "cells": [
  {
   "cell_type": "markdown",
   "metadata": {},
   "source": [
    "## Import Packages"
   ]
  },
  {
   "cell_type": "code",
   "execution_count": 2,
   "metadata": {
    "collapsed": false
   },
   "outputs": [],
   "source": [
    "import csv\n",
    "import numpy as np\n",
    "from sklearn.cross_validation import KFold\n",
    "from sklearn.metrics import accuracy_score\n",
    "from sklearn.metrics import confusion_matrix\n",
    "from sklearn.naive_bayes import GaussianNB\n",
    "from sklearn.svm import LinearSVC\n",
    "from sklearn.svm import SVC"
   ]
  },
  {
   "cell_type": "markdown",
   "metadata": {},
   "source": [
    "## Extract Data"
   ]
  },
  {
   "cell_type": "code",
   "execution_count": 36,
   "metadata": {
    "collapsed": false
   },
   "outputs": [],
   "source": [
    "def findCommunities(filename):\n",
    "    communities = []\n",
    "    with open(filename, 'r') as csvfile:\n",
    "        filereader = csv.reader(csvfile)\n",
    "        j = 0\n",
    "        for i in filereader:\n",
    "            if j > 0:\n",
    "                if i[1] not in communities:\n",
    "                    communities.append(i[1])\n",
    "            j+=1\n",
    "    return communities\n",
    "def extractData(filename,communities,addstate = False,addcommunity = False):\n",
    "    features = []\n",
    "    xPositive=[]\n",
    "    yPositive=[]\n",
    "    xNegative=[]\n",
    "    yNegative =[]\n",
    "    with open(filename, 'r') as csvfile:\n",
    "        filereader = csv.reader(csvfile)\n",
    "        j = 0\n",
    "        for i in filereader:\n",
    "            if j > 0:\n",
    "                data = i[3:len(i)-1]\n",
    "                if addstate:\n",
    "                    state = [0.0]*56\n",
    "                    state[int(i[0])-1] = 1.0\n",
    "                    data = data + state\n",
    "                    features = features + [\"state\"+str(i) for i in range(56)]\n",
    "                if addcommunity:\n",
    "                    tmp = [0.0]*len(communities)\n",
    "                    tmp[communities.index(i[1])] = 1.0\n",
    "                    data = data + tmp\n",
    "                    features = features + communities\n",
    "                vect = np.array(data)\n",
    "                #vect = np.array(i[3:len(i)-1])\n",
    "                #x.append(vect.astype(np.float))\n",
    "                if float(i[-1]) > 0.1:\n",
    "                    xPositive.append(vect.astype(np.float))\n",
    "                    yPositive.append(1)\n",
    "                else:\n",
    "                    xNegative.append(vect.astype(np.float))\n",
    "                    yNegative.append(0)\n",
    "            else:\n",
    "                features = i[3:len(i)-1]\n",
    "            j+=1\n",
    "        \"\"\"yPositive = np.array(yPositive)\n",
    "        xPositive = np.array(xPositive)\n",
    "        yNegative = np.array(yNegative)\n",
    "        xNegative = np.array(xNegative)\"\"\"\n",
    "        features = np.array(features)\n",
    "        indxP = int(len(xPositive)*.6)\n",
    "        indxN = int(len(xNegative)*.6)\n",
    "        xTrain =np.array(xPositive[:indxP] + xNegative[:indxN])\n",
    "        yTrain = np.array(yPositive[:indxP] + yNegative[:indxN])\n",
    "        xTest = np.array(xPositive[indxP:] + xNegative[indxN:])\n",
    "        yTest = np.array(yPositive[indxP:] + yNegative[indxN:])\n",
    "        \n",
    "        \n",
    "            \n",
    "            \n",
    "        return xTrain,yTrain,xTest,yTest,features"
   ]
  },
  {
   "cell_type": "markdown",
   "metadata": {},
   "source": [
    "## Calculate Label Percentage"
   ]
  },
  {
   "cell_type": "code",
   "execution_count": 37,
   "metadata": {
    "collapsed": true
   },
   "outputs": [],
   "source": [
    "def calcualtePercentage(labels):\n",
    "    n = len(labels)\n",
    "    sumTrue = sum(labels)*1.0\n",
    "    sumFalse = (n - sumTrue)*1.0\n",
    "    return sumTrue/n,sumFalse/n"
   ]
  },
  {
   "cell_type": "markdown",
   "metadata": {},
   "source": [
    "## Create Model"
   ]
  },
  {
   "cell_type": "code",
   "execution_count": 69,
   "metadata": {
    "collapsed": true
   },
   "outputs": [],
   "source": [
    "def clfSVC(kernel = 'rbf'):\n",
    "    return SVC(C=1.0, kernel= kernel, degree=3, gamma='auto', coef0=0.0,\n",
    "               shrinking=True, probability=False, tol=0.001, cache_size=200, \n",
    "               class_weight=None, verbose=False, max_iter=-1,decision_function_shape=None, random_state=None)"
   ]
  },
  {
   "cell_type": "markdown",
   "metadata": {},
   "source": [
    "## Evaluation"
   ]
  },
  {
   "cell_type": "code",
   "execution_count": 70,
   "metadata": {
    "collapsed": true
   },
   "outputs": [],
   "source": [
    "def confusionMatrix(true,predicted,labels = [1,0]):\n",
    "    return confusion_matrix(true,predicted,labels)\n",
    "\n",
    "def find_confusion_matrix(actual,predicted,clabels):\n",
    "    cm= []\n",
    "    for i in clabels:\n",
    "        tmp =[0]*len(clabels)\n",
    "        \n",
    "        for j in range(len(actual)):\n",
    "            if actual[j]== i and actual[j] == predicted[j]:\n",
    "                tmp[clabels.index(i)] += 1\n",
    "            elif actual[j]== i and actual[j] != predicted[j]:\n",
    "                tmp[clabels.index(predicted[j])] += 1\n",
    "        cm.append(tmp)\n",
    "    return np.array(cm)\n",
    "def find_accuracy(matrix):\n",
    "    return np.trace(matrix)*1.0/np.sum(matrix)\n",
    "def find_precision(matrix):\n",
    "    pres = []\n",
    "    x = np.sum(matrix,axis=0)\n",
    "    for i in range(len(matrix)):\n",
    "        for j in range(len(matrix)):\n",
    "            if i == j:\n",
    "                pres.append(matrix[i][j]*1.0/x[i])\n",
    "    return pres\n",
    "def find_recall(matrix):\n",
    "    rec = []\n",
    "    x = np.sum(matrix,axis=1)\n",
    "    for i in range(len(matrix)):\n",
    "        for j in range(len(matrix)):\n",
    "            if i == j:\n",
    "                rec.append(matrix[i][j]*1.0/x[i])\n",
    "    return rec\n",
    "def evaluation(acutal,predicted,clabels=[1,0]):\n",
    "    confmatrix = find_confusion_matrix(acutal,predicted,clabels)\n",
    "    print (\"Confusion Matrix\")\n",
    "    print (confmatrix)\n",
    "    accuracy = find_accuracy(confmatrix)\n",
    "    print (\"Accuracy\", accuracy)\n",
    "    precision = find_precision(confmatrix)\n",
    "    print (\"Precision\", precision)\n",
    "    recall = find_recall(confmatrix)\n",
    "    print (\"Recall\", recall)"
   ]
  },
  {
   "cell_type": "markdown",
   "metadata": {},
   "source": [
    "## Cross Validation"
   ]
  },
  {
   "cell_type": "code",
   "execution_count": 71,
   "metadata": {
    "collapsed": true
   },
   "outputs": [],
   "source": [
    "def do_cross_validation(X, y,clf, n_folds=5):\n",
    "    cv = KFold(len(y), n_folds, shuffle=True)\n",
    "    accuracies = []\n",
    "    i = 1\n",
    "    for train_ind, test_ind in cv: \n",
    "        clf.fit(X[train_ind], y[train_ind])\n",
    "        predictions = clf.predict(X[test_ind])\n",
    "        print (\"Fold %d Evaluation\" %i)\n",
    "        i +=1\n",
    "        evaluation(y[test_ind],predictions)\n",
    "        print (\"\\n\")\n",
    "        accuracies.append(accuracy_score(y[test_ind], predictions))\n",
    "    avg = np.mean(accuracies)\n",
    "    print (\"The average Accuracy is \", avg)"
   ]
  },
  {
   "cell_type": "markdown",
   "metadata": {},
   "source": [
    "### Read Data"
   ]
  },
  {
   "cell_type": "code",
   "execution_count": 72,
   "metadata": {
    "collapsed": true
   },
   "outputs": [],
   "source": [
    "filename = 'C:\\\\Users\\\\ar1\\\\Documents\\ML\\\\Project\\\\Crime Prediction Data(1)\\\\Crime Prediction Data\\\\communities-crime-clean.csv'\n",
    "distintCommunities = findCommunities(filename)\n",
    "XTrain,YTrain,XTest,YTest,Features = extractData(filename, distintCommunities)"
   ]
  },
  {
   "cell_type": "markdown",
   "metadata": {},
   "source": [
    "### Percentage of Labels"
   ]
  },
  {
   "cell_type": "code",
   "execution_count": 73,
   "metadata": {
    "collapsed": false
   },
   "outputs": [
    {
     "name": "stdout",
     "output_type": "stream",
     "text": [
      "Train Percentage (0.62761506276150625, 0.3723849372384937)\n",
      "Test Percentage (0.62656641604010022, 0.37343358395989973)\n"
     ]
    }
   ],
   "source": [
    "print (\"Train Percentage\",calcualtePercentage(YTrain))\n",
    "print (\"Test Percentage\",calcualtePercentage(YTest))"
   ]
  },
  {
   "cell_type": "markdown",
   "metadata": {},
   "source": [
    "### Default SVC Model"
   ]
  },
  {
   "cell_type": "code",
   "execution_count": 88,
   "metadata": {
    "collapsed": false
   },
   "outputs": [
    {
     "name": "stdout",
     "output_type": "stream",
     "text": [
      "Confusion Matrix\n",
      "[[436  64]\n",
      " [ 79 219]]\n",
      "Accuracy 0.820802005013\n",
      "Precision [0.84660194174757286, 0.77385159010600701]\n",
      "Recall [0.872, 0.7348993288590604]\n"
     ]
    }
   ],
   "source": [
    "model= clfSVC()\n",
    "model.fit(XTrain,YTrain)\n",
    "predictedY=model.predict(XTest)\n",
    "evaluation(YTest,predictedY)"
   ]
  },
  {
   "cell_type": "markdown",
   "metadata": {},
   "source": [
    "### 10 Fold Cross Validation on Default SVC Model"
   ]
  },
  {
   "cell_type": "code",
   "execution_count": 75,
   "metadata": {
    "collapsed": false
   },
   "outputs": [
    {
     "name": "stdout",
     "output_type": "stream",
     "text": [
      "Fold 1 Evaluation\n",
      "Confusion Matrix\n",
      "[[66  9]\n",
      " [15 30]]\n",
      "Accuracy 0.8\n",
      "Precision [0.81481481481481477, 0.76923076923076927]\n",
      "Recall [0.88, 0.66666666666666663]\n",
      "\n",
      "\n",
      "Fold 2 Evaluation\n",
      "Confusion Matrix\n",
      "[[71 13]\n",
      " [ 4 32]]\n",
      "Accuracy 0.858333333333\n",
      "Precision [0.94666666666666666, 0.71111111111111114]\n",
      "Recall [0.84523809523809523, 0.88888888888888884]\n",
      "\n",
      "\n",
      "Fold 3 Evaluation\n",
      "Confusion Matrix\n",
      "[[78  8]\n",
      " [ 9 25]]\n",
      "Accuracy 0.858333333333\n",
      "Precision [0.89655172413793105, 0.75757575757575757]\n",
      "Recall [0.90697674418604646, 0.73529411764705888]\n",
      "\n",
      "\n",
      "Fold 4 Evaluation\n",
      "Confusion Matrix\n",
      "[[65  9]\n",
      " [16 30]]\n",
      "Accuracy 0.791666666667\n",
      "Precision [0.80246913580246915, 0.76923076923076927]\n",
      "Recall [0.8783783783783784, 0.65217391304347827]\n",
      "\n",
      "\n",
      "Fold 5 Evaluation\n",
      "Confusion Matrix\n",
      "[[62  7]\n",
      " [16 35]]\n",
      "Accuracy 0.808333333333\n",
      "Precision [0.79487179487179482, 0.83333333333333337]\n",
      "Recall [0.89855072463768115, 0.68627450980392157]\n",
      "\n",
      "\n",
      "Fold 6 Evaluation\n",
      "Confusion Matrix\n",
      "[[62  8]\n",
      " [ 9 40]]\n",
      "Accuracy 0.857142857143\n",
      "Precision [0.87323943661971826, 0.83333333333333337]\n",
      "Recall [0.88571428571428568, 0.81632653061224492]\n",
      "\n",
      "\n",
      "Fold 7 Evaluation\n",
      "Confusion Matrix\n",
      "[[66 10]\n",
      " [11 32]]\n",
      "Accuracy 0.823529411765\n",
      "Precision [0.8571428571428571, 0.76190476190476186]\n",
      "Recall [0.86842105263157898, 0.7441860465116279]\n",
      "\n",
      "\n",
      "Fold 8 Evaluation\n",
      "Confusion Matrix\n",
      "[[64 13]\n",
      " [16 26]]\n",
      "Accuracy 0.756302521008\n",
      "Precision [0.80000000000000004, 0.66666666666666663]\n",
      "Recall [0.83116883116883122, 0.61904761904761907]\n",
      "\n",
      "\n",
      "Fold 9 Evaluation\n",
      "Confusion Matrix\n",
      "[[57  8]\n",
      " [16 38]]\n",
      "Accuracy 0.798319327731\n",
      "Precision [0.78082191780821919, 0.82608695652173914]\n",
      "Recall [0.87692307692307692, 0.70370370370370372]\n",
      "\n",
      "\n",
      "Fold 10 Evaluation\n",
      "Confusion Matrix\n",
      "[[63 11]\n",
      " [ 9 36]]\n",
      "Accuracy 0.831932773109\n",
      "Precision [0.875, 0.76595744680851063]\n",
      "Recall [0.85135135135135132, 0.80000000000000004]\n",
      "\n",
      "\n",
      "The average Accuracy is  0.818389355742\n"
     ]
    }
   ],
   "source": [
    "do_cross_validation(XTrain,YTrain,model,10)"
   ]
  },
  {
   "cell_type": "markdown",
   "metadata": {},
   "source": [
    "### Evaluation for Different Kernels"
   ]
  },
  {
   "cell_type": "code",
   "execution_count": 76,
   "metadata": {
    "collapsed": false
   },
   "outputs": [
    {
     "name": "stdout",
     "output_type": "stream",
     "text": [
      "\n",
      "linear\n",
      "Confusion Matrix\n",
      "[[417  83]\n",
      " [ 57 241]]\n",
      "Accuracy 0.824561403509\n",
      "Precision [0.879746835443038, 0.74382716049382713]\n",
      "Recall [0.83399999999999996, 0.8087248322147651]\n",
      "\n",
      "poly\n",
      "Confusion Matrix\n",
      "[[500   0]\n",
      " [292   6]]\n",
      "Accuracy 0.634085213033\n",
      "Precision [0.63131313131313127, 1.0]\n",
      "Recall [1.0, 0.020134228187919462]\n",
      "\n",
      "rbf\n",
      "Confusion Matrix\n",
      "[[436  64]\n",
      " [ 79 219]]\n",
      "Accuracy 0.820802005013\n",
      "Precision [0.84660194174757286, 0.77385159010600701]\n",
      "Recall [0.872, 0.7348993288590604]\n",
      "\n",
      "sigmoid\n",
      "Confusion Matrix\n",
      "[[444  56]\n",
      " [ 99 199]]\n",
      "Accuracy 0.805764411028\n",
      "Precision [0.81767955801104975, 0.7803921568627451]\n",
      "Recall [0.88800000000000001, 0.66778523489932884]\n"
     ]
    }
   ],
   "source": [
    "kernel = ['linear','poly', 'rbf', 'sigmoid',]\n",
    "modelList =[]\n",
    "for i in kernel:\n",
    "    model= clfSVC(kernel = i)\n",
    "    model.fit(XTrain,YTrain)\n",
    "    modelList.append(model)\n",
    "    predictedY=model.predict(XTest)\n",
    "    print(\"\\n\"+i)\n",
    "    evaluation(YTest,predictedY)\n",
    "    "
   ]
  },
  {
   "cell_type": "markdown",
   "metadata": {},
   "source": [
    "### Top 10 important features in Linear model"
   ]
  },
  {
   "cell_type": "code",
   "execution_count": 86,
   "metadata": {
    "collapsed": false
   },
   "outputs": [
    {
     "name": "stdout",
     "output_type": "stream",
     "text": [
      "['PctUnemployed' 'racePctHisp' 'PctImmigRecent' 'PctIlleg' 'agePct12t21'\n",
      " 'MalePctDivorce' 'racepctblack' 'PctImmigRec10' 'TotalPctDiv'\n",
      " 'PersPerOccupHous']\n"
     ]
    }
   ],
   "source": [
    "coef = modelList[0].coef_\n",
    "topindx = np.argsort(coef)[0][::-1][:10]\n",
    "print (Features[topindx])\n"
   ]
  },
  {
   "cell_type": "code",
   "execution_count": null,
   "metadata": {
    "collapsed": true
   },
   "outputs": [],
   "source": []
  }
 ],
 "metadata": {
  "kernelspec": {
   "display_name": "Python 2",
   "language": "python",
   "name": "python2"
  },
  "language_info": {
   "codemirror_mode": {
    "name": "ipython",
    "version": 2
   },
   "file_extension": ".py",
   "mimetype": "text/x-python",
   "name": "python",
   "nbconvert_exporter": "python",
   "pygments_lexer": "ipython2",
   "version": "2.7.11"
  }
 },
 "nbformat": 4,
 "nbformat_minor": 2
}
