{
 "cells": [
  {
   "cell_type": "markdown",
   "metadata": {},
   "source": [
    "## Import Packages"
   ]
  },
  {
   "cell_type": "code",
   "execution_count": 96,
   "metadata": {
    "collapsed": false
   },
   "outputs": [],
   "source": [
    "import csv\n",
    "import numpy as np\n",
    "from sklearn.cross_validation import KFold\n",
    "from sklearn.metrics import accuracy_score\n",
    "from sklearn.metrics import confusion_matrix\n",
    "from sklearn.naive_bayes import GaussianNB\n",
    "from sklearn.svm import LinearSVC"
   ]
  },
  {
   "cell_type": "markdown",
   "metadata": {},
   "source": [
    "## Extract Data"
   ]
  },
  {
   "cell_type": "code",
   "execution_count": 97,
   "metadata": {
    "collapsed": false
   },
   "outputs": [],
   "source": [
    "def findCommunities(filename):\n",
    "    communities = []\n",
    "    with open(filename, 'r') as csvfile:\n",
    "        filereader = csv.reader(csvfile)\n",
    "        j = 0\n",
    "        for i in filereader:\n",
    "            if j > 0:\n",
    "                if i[1] not in communities:\n",
    "                    communities.append(i[1])\n",
    "            j+=1\n",
    "    return communities\n",
    "def extractData(filename,communities,addstate = False,addcommunity = False):\n",
    "    features = []\n",
    "    xPositive=[]\n",
    "    yPositive=[]\n",
    "    xNegative=[]\n",
    "    yNegative =[]\n",
    "    with open(filename, 'r') as csvfile:\n",
    "        filereader = csv.reader(csvfile)\n",
    "        j = 0\n",
    "        for i in filereader:\n",
    "            if j > 0:\n",
    "                data = i[3:len(i)-1]\n",
    "                if addstate:\n",
    "                    state = [0.0]*56\n",
    "                    state[int(i[0])-1] = 1.0\n",
    "                    data = data + state\n",
    "                    features = features + [\"state\"+str(i) for i in range(56)]\n",
    "                if addcommunity:\n",
    "                    tmp = [0.0]*len(communities)\n",
    "                    tmp[communities.index(i[1])] = 1.0\n",
    "                    data = data + tmp\n",
    "                    features = features + communities\n",
    "                vect = np.array(data)\n",
    "                #vect = np.array(i[3:len(i)-1])\n",
    "                #x.append(vect.astype(np.float))\n",
    "                if float(i[-1]) > 0.1:\n",
    "                    xPositive.append(vect.astype(np.float))\n",
    "                    yPositive.append(1)\n",
    "                else:\n",
    "                    xNegative.append(vect.astype(np.float))\n",
    "                    yNegative.append(0)\n",
    "            else:\n",
    "                features = i[3:len(i)-1]\n",
    "            j+=1\n",
    "        \"\"\"yPositive = np.array(yPositive)\n",
    "        xPositive = np.array(xPositive)\n",
    "        yNegative = np.array(yNegative)\n",
    "        xNegative = np.array(xNegative)\"\"\"\n",
    "        features = np.array(features)\n",
    "        indxP = int(len(xPositive)*.6)\n",
    "        indxN = int(len(xNegative)*.6)\n",
    "        xTrain =np.array(xPositive[:indxP] + xNegative[:indxN])\n",
    "        yTrain = np.array(yPositive[:indxP] + yNegative[:indxN])\n",
    "        xTest = np.array(xPositive[indxP:] + xNegative[indxN:])\n",
    "        yTest = np.array(yPositive[indxP:] + yNegative[indxN:])\n",
    "        \n",
    "        mean_diff = (np.absolute(np.mean(xPositive[:indxP],axis = 0)-np.mean(xNegative[:indxN],axis = 0)))\n",
    "        std_sum = (np.std(xPositive[:indxP],axis = 0)+np.std(xNegative[:indxN],axis = 0))\n",
    "        feval = mean_diff/std_sum\n",
    "            \n",
    "            \n",
    "        return xTrain,yTrain,xTest,yTest,features,feval"
   ]
  },
  {
   "cell_type": "markdown",
   "metadata": {},
   "source": [
    "## Calculate Label Percentage"
   ]
  },
  {
   "cell_type": "code",
   "execution_count": 98,
   "metadata": {
    "collapsed": true
   },
   "outputs": [],
   "source": [
    "def calcualtePercentage(labels):\n",
    "    n = len(labels)\n",
    "    sumTrue = sum(labels)*1.0\n",
    "    sumFalse = (n - sumTrue)*1.0\n",
    "    return sumTrue/n,sumFalse/n"
   ]
  },
  {
   "cell_type": "markdown",
   "metadata": {},
   "source": [
    "## Create Model"
   ]
  },
  {
   "cell_type": "code",
   "execution_count": 99,
   "metadata": {
    "collapsed": true
   },
   "outputs": [],
   "source": [
    "def gaussianNB():\n",
    "    return GaussianNB()"
   ]
  },
  {
   "cell_type": "code",
   "execution_count": 100,
   "metadata": {
    "collapsed": true
   },
   "outputs": [],
   "source": [
    "def linearSVC():\n",
    "    return LinearSVC(penalty='l2', loss='squared_hinge', dual=True, tol=0.0001, C=1.0, multi_class='ovr', \n",
    "                     fit_intercept=True, intercept_scaling=1, class_weight=None, verbose=0, random_state=None,\n",
    "                     max_iter=1000)"
   ]
  },
  {
   "cell_type": "markdown",
   "metadata": {},
   "source": [
    "## Evaluation"
   ]
  },
  {
   "cell_type": "code",
   "execution_count": 101,
   "metadata": {
    "collapsed": true
   },
   "outputs": [],
   "source": [
    "def confusionMatrix(true,predicted,labels = [1,0]):\n",
    "    return confusion_matrix(true,predicted,labels)\n",
    "\n",
    "def find_confusion_matrix(actual,predicted,clabels):\n",
    "    cm= []\n",
    "    for i in clabels:\n",
    "        tmp =[0]*len(clabels)\n",
    "        \n",
    "        for j in range(len(actual)):\n",
    "            if actual[j]== i and actual[j] == predicted[j]:\n",
    "                tmp[clabels.index(i)] += 1\n",
    "            elif actual[j]== i and actual[j] != predicted[j]:\n",
    "                tmp[clabels.index(predicted[j])] += 1\n",
    "        cm.append(tmp)\n",
    "    return np.array(cm)\n",
    "def find_accuracy(matrix):\n",
    "    return np.trace(matrix)*1.0/np.sum(matrix)\n",
    "def find_precision(matrix):\n",
    "    pres = []\n",
    "    x = np.sum(matrix,axis=0)\n",
    "    for i in range(len(matrix)):\n",
    "        for j in range(len(matrix)):\n",
    "            if i == j:\n",
    "                pres.append(matrix[i][j]*1.0/x[i])\n",
    "    return pres\n",
    "def find_recall(matrix):\n",
    "    rec = []\n",
    "    x = np.sum(matrix,axis=1)\n",
    "    for i in range(len(matrix)):\n",
    "        for j in range(len(matrix)):\n",
    "            if i == j:\n",
    "                rec.append(matrix[i][j]*1.0/x[i])\n",
    "    return rec\n",
    "def evaluation(acutal,predicted,clabels=[1,0]):\n",
    "    confmatrix = find_confusion_matrix(acutal,predicted,clabels)\n",
    "    print (\"Confusion Matrix\")\n",
    "    print (confmatrix)\n",
    "    accuracy = find_accuracy(confmatrix)\n",
    "    print (\"Accuracy\", accuracy)\n",
    "    precision = find_precision(confmatrix)\n",
    "    print (\"Precision\", precision)\n",
    "    recall = find_recall(confmatrix)\n",
    "    print (\"Recall\", recall)"
   ]
  },
  {
   "cell_type": "markdown",
   "metadata": {},
   "source": [
    "## Cross Validation"
   ]
  },
  {
   "cell_type": "code",
   "execution_count": 102,
   "metadata": {
    "collapsed": true
   },
   "outputs": [],
   "source": [
    "def do_cross_validation(X, y,clf, n_folds=5):\n",
    "    cv = KFold(len(y), n_folds, shuffle=True)\n",
    "    accuracies = []\n",
    "    i = 1\n",
    "    for train_ind, test_ind in cv: \n",
    "        clf.fit(X[train_ind], y[train_ind])\n",
    "        predictions = clf.predict(X[test_ind])\n",
    "        print (\"Fold %d Evaluation\" %i)\n",
    "        i +=1\n",
    "        evaluation(y[test_ind],predictions)\n",
    "        print (\"\\n\")\n",
    "        accuracies.append(accuracy_score(y[test_ind], predictions))\n",
    "    avg = np.mean(accuracies)\n",
    "    print (\"The average Accuracy is \", avg)"
   ]
  },
  {
   "cell_type": "markdown",
   "metadata": {},
   "source": [
    "### Read Data"
   ]
  },
  {
   "cell_type": "code",
   "execution_count": 103,
   "metadata": {
    "collapsed": false
   },
   "outputs": [],
   "source": [
    "filename = 'C:\\\\Users\\\\ar1\\\\Documents\\ML\\\\Project\\\\Crime Prediction Data(1)\\\\Crime Prediction Data\\\\communities-crime-clean.csv'\n",
    "distintCommunities = findCommunities(filename)\n",
    "XTrain,YTrain,XTest,YTest,Features,FeatureEval = extractData(filename, distintCommunities)"
   ]
  },
  {
   "cell_type": "markdown",
   "metadata": {},
   "source": [
    "### Percentage of Labels"
   ]
  },
  {
   "cell_type": "code",
   "execution_count": 104,
   "metadata": {
    "collapsed": false
   },
   "outputs": [
    {
     "name": "stdout",
     "output_type": "stream",
     "text": [
      "Train Percentage (0.62761506276150625, 0.3723849372384937)\n",
      "Test Percentage (0.62656641604010022, 0.37343358395989973)\n"
     ]
    }
   ],
   "source": [
    "print (\"Train Percentage\",calcualtePercentage(YTrain))\n",
    "print (\"Test Percentage\",calcualtePercentage(YTest))"
   ]
  },
  {
   "cell_type": "markdown",
   "metadata": {},
   "source": [
    "### Default GaussianNB Model"
   ]
  },
  {
   "cell_type": "code",
   "execution_count": 105,
   "metadata": {
    "collapsed": false
   },
   "outputs": [
    {
     "name": "stdout",
     "output_type": "stream",
     "text": [
      "Confusion Matrix\n",
      "[[354 146]\n",
      " [ 40 258]]\n",
      "Accuracy 0.766917293233\n",
      "Precision [0.89847715736040612, 0.63861386138613863]\n",
      "Recall [0.70799999999999996, 0.86577181208053688]\n"
     ]
    }
   ],
   "source": [
    "model= gaussianNB()\n",
    "model.fit(XTrain,YTrain)\n",
    "predictedY=model.predict(XTest)\n",
    "evaluation(YTest,predictedY)"
   ]
  },
  {
   "cell_type": "markdown",
   "metadata": {},
   "source": [
    "### 10 Fold Cross Validation on Default GaussianNB Model"
   ]
  },
  {
   "cell_type": "code",
   "execution_count": 106,
   "metadata": {
    "collapsed": false
   },
   "outputs": [
    {
     "name": "stdout",
     "output_type": "stream",
     "text": [
      "Fold 1 Evaluation\n",
      "Confusion Matrix\n",
      "[[44 24]\n",
      " [ 4 48]]\n",
      "Accuracy 0.766666666667\n",
      "Precision [0.91666666666666663, 0.66666666666666663]\n",
      "Recall [0.6470588235294118, 0.92307692307692313]\n",
      "\n",
      "\n",
      "Fold 2 Evaluation\n",
      "Confusion Matrix\n",
      "[[56 15]\n",
      " [ 3 46]]\n",
      "Accuracy 0.85\n",
      "Precision [0.94915254237288138, 0.75409836065573765]\n",
      "Recall [0.78873239436619713, 0.93877551020408168]\n",
      "\n",
      "\n",
      "Fold 3 Evaluation\n",
      "Confusion Matrix\n",
      "[[49 20]\n",
      " [ 4 47]]\n",
      "Accuracy 0.8\n",
      "Precision [0.92452830188679247, 0.70149253731343286]\n",
      "Recall [0.71014492753623193, 0.92156862745098034]\n",
      "\n",
      "\n",
      "Fold 4 Evaluation\n",
      "Confusion Matrix\n",
      "[[51 27]\n",
      " [ 5 37]]\n",
      "Accuracy 0.733333333333\n",
      "Precision [0.9107142857142857, 0.578125]\n",
      "Recall [0.65384615384615385, 0.88095238095238093]\n",
      "\n",
      "\n",
      "Fold 5 Evaluation\n",
      "Confusion Matrix\n",
      "[[59 20]\n",
      " [ 6 35]]\n",
      "Accuracy 0.783333333333\n",
      "Precision [0.90769230769230769, 0.63636363636363635]\n",
      "Recall [0.74683544303797467, 0.85365853658536583]\n",
      "\n",
      "\n",
      "Fold 6 Evaluation\n",
      "Confusion Matrix\n",
      "[[55 24]\n",
      " [ 4 36]]\n",
      "Accuracy 0.764705882353\n",
      "Precision [0.93220338983050843, 0.59999999999999998]\n",
      "Recall [0.69620253164556967, 0.90000000000000002]\n",
      "\n",
      "\n",
      "Fold 7 Evaluation\n",
      "Confusion Matrix\n",
      "[[60 23]\n",
      " [ 3 33]]\n",
      "Accuracy 0.781512605042\n",
      "Precision [0.95238095238095233, 0.5892857142857143]\n",
      "Recall [0.72289156626506024, 0.91666666666666663]\n",
      "\n",
      "\n",
      "Fold 8 Evaluation\n",
      "Confusion Matrix\n",
      "[[50 29]\n",
      " [ 3 37]]\n",
      "Accuracy 0.731092436975\n",
      "Precision [0.94339622641509435, 0.56060606060606055]\n",
      "Recall [0.63291139240506333, 0.92500000000000004]\n",
      "\n",
      "\n",
      "Fold 9 Evaluation\n",
      "Confusion Matrix\n",
      "[[49 28]\n",
      " [ 5 37]]\n",
      "Accuracy 0.72268907563\n",
      "Precision [0.90740740740740744, 0.56923076923076921]\n",
      "Recall [0.63636363636363635, 0.88095238095238093]\n",
      "\n",
      "\n",
      "Fold 10 Evaluation\n",
      "Confusion Matrix\n",
      "[[43 24]\n",
      " [ 6 46]]\n",
      "Accuracy 0.747899159664\n",
      "Precision [0.87755102040816324, 0.65714285714285714]\n",
      "Recall [0.64179104477611937, 0.88461538461538458]\n",
      "\n",
      "\n",
      "The average Accuracy is  0.7681232493\n"
     ]
    }
   ],
   "source": [
    "do_cross_validation(XTrain,YTrain,model,10)"
   ]
  },
  {
   "cell_type": "markdown",
   "metadata": {},
   "source": [
    "### Top 10 important features in GaussianNB model"
   ]
  },
  {
   "cell_type": "code",
   "execution_count": 107,
   "metadata": {
    "collapsed": false
   },
   "outputs": [
    {
     "name": "stdout",
     "output_type": "stream",
     "text": [
      "['PctKids2Par' 'PctFam2Par' 'FemalePctDiv' 'racePctWhite' 'TotalPctDiv'\n",
      " 'PctIlleg' 'PctPersDenseHous' 'pctWInvInc' 'MalePctDivorce'\n",
      " 'PctYoungKids2Par'] -- [44 43 40  3 41 50 68 15 38 45]\n"
     ]
    }
   ],
   "source": [
    "topFeature = np.argsort(FeatureEval)[::-1][:10]\n",
    "print (Features[topFeature],\"--\",topFeature)"
   ]
  },
  {
   "cell_type": "markdown",
   "metadata": {},
   "source": [
    "### Default LinearSVC Model"
   ]
  },
  {
   "cell_type": "code",
   "execution_count": 108,
   "metadata": {
    "collapsed": false
   },
   "outputs": [
    {
     "name": "stdout",
     "output_type": "stream",
     "text": [
      "Confusion Matrix\n",
      "[[413  87]\n",
      " [ 64 234]]\n",
      "Accuracy 0.810776942356\n",
      "Precision [0.86582809224318658, 0.7289719626168224]\n",
      "Recall [0.82599999999999996, 0.78523489932885904]\n"
     ]
    }
   ],
   "source": [
    "model= linearSVC()\n",
    "model.fit(XTrain,YTrain)\n",
    "predictedY=model.predict(XTest)\n",
    "evaluation(YTest,predictedY)"
   ]
  },
  {
   "cell_type": "markdown",
   "metadata": {},
   "source": [
    "### 10 Fold Cross Validation on Default LinearSVC Model"
   ]
  },
  {
   "cell_type": "code",
   "execution_count": 109,
   "metadata": {
    "collapsed": false
   },
   "outputs": [
    {
     "name": "stdout",
     "output_type": "stream",
     "text": [
      "Fold 1 Evaluation\n",
      "Confusion Matrix\n",
      "[[65 15]\n",
      " [ 6 34]]\n",
      "Accuracy 0.825\n",
      "Precision [0.91549295774647887, 0.69387755102040816]\n",
      "Recall [0.8125, 0.84999999999999998]\n",
      "\n",
      "\n",
      "Fold 2 Evaluation\n",
      "Confusion Matrix\n",
      "[[66  9]\n",
      " [11 34]]\n",
      "Accuracy 0.833333333333\n",
      "Precision [0.8571428571428571, 0.79069767441860461]\n",
      "Recall [0.88, 0.75555555555555554]\n",
      "\n",
      "\n",
      "Fold 3 Evaluation\n",
      "Confusion Matrix\n",
      "[[65  8]\n",
      " [12 35]]\n",
      "Accuracy 0.833333333333\n",
      "Precision [0.8441558441558441, 0.81395348837209303]\n",
      "Recall [0.8904109589041096, 0.74468085106382975]\n",
      "\n",
      "\n",
      "Fold 4 Evaluation\n",
      "Confusion Matrix\n",
      "[[65  9]\n",
      " [10 36]]\n",
      "Accuracy 0.841666666667\n",
      "Precision [0.8666666666666667, 0.80000000000000004]\n",
      "Recall [0.8783783783783784, 0.78260869565217395]\n",
      "\n",
      "\n",
      "Fold 5 Evaluation\n",
      "Confusion Matrix\n",
      "[[68 19]\n",
      " [ 2 31]]\n",
      "Accuracy 0.825\n",
      "Precision [0.97142857142857142, 0.62]\n",
      "Recall [0.7816091954022989, 0.93939393939393945]\n",
      "\n",
      "\n",
      "Fold 6 Evaluation\n",
      "Confusion Matrix\n",
      "[[58  5]\n",
      " [17 39]]\n",
      "Accuracy 0.81512605042\n",
      "Precision [0.77333333333333332, 0.88636363636363635]\n",
      "Recall [0.92063492063492058, 0.6964285714285714]\n",
      "\n",
      "\n",
      "Fold 7 Evaluation\n",
      "Confusion Matrix\n",
      "[[57 11]\n",
      " [10 41]]\n",
      "Accuracy 0.823529411765\n",
      "Precision [0.85074626865671643, 0.78846153846153844]\n",
      "Recall [0.83823529411764708, 0.80392156862745101]\n",
      "\n",
      "\n",
      "Fold 8 Evaluation\n",
      "Confusion Matrix\n",
      "[[64 11]\n",
      " [ 8 36]]\n",
      "Accuracy 0.840336134454\n",
      "Precision [0.88888888888888884, 0.76595744680851063]\n",
      "Recall [0.85333333333333339, 0.81818181818181823]\n",
      "\n",
      "\n",
      "Fold 9 Evaluation\n",
      "Confusion Matrix\n",
      "[[71  8]\n",
      " [12 28]]\n",
      "Accuracy 0.831932773109\n",
      "Precision [0.85542168674698793, 0.77777777777777779]\n",
      "Recall [0.89873417721518989, 0.69999999999999996]\n",
      "\n",
      "\n",
      "Fold 10 Evaluation\n",
      "Confusion Matrix\n",
      "[[63 13]\n",
      " [12 31]]\n",
      "Accuracy 0.789915966387\n",
      "Precision [0.83999999999999997, 0.70454545454545459]\n",
      "Recall [0.82894736842105265, 0.72093023255813948]\n",
      "\n",
      "\n",
      "The average Accuracy is  0.825917366947\n"
     ]
    }
   ],
   "source": [
    "do_cross_validation(XTrain,YTrain,model,10)"
   ]
  },
  {
   "cell_type": "markdown",
   "metadata": {},
   "source": [
    "### Top 10 important features in LinearSVC model"
   ]
  },
  {
   "cell_type": "code",
   "execution_count": 111,
   "metadata": {
    "collapsed": false
   },
   "outputs": [
    {
     "name": "stdout",
     "output_type": "stream",
     "text": [
      "['PctPersDenseHous' 'agePct12t21' 'PersPerOccupHous' 'MalePctDivorce'\n",
      " 'racepctblack' 'PctImmigRecent' 'NumUnderPov' 'PctUnemployed' 'NumStreet'\n",
      " 'PctSpeakEnglOnly']\n"
     ]
    }
   ],
   "source": [
    "coef = model.coef_\n",
    "topindx = np.argsort(coef)[0][::-1][:10]\n",
    "print (Features[topindx])\n"
   ]
  },
  {
   "cell_type": "code",
   "execution_count": null,
   "metadata": {
    "collapsed": true
   },
   "outputs": [],
   "source": []
  }
 ],
 "metadata": {
  "kernelspec": {
   "display_name": "Python 2",
   "language": "python",
   "name": "python2"
  },
  "language_info": {
   "codemirror_mode": {
    "name": "ipython",
    "version": 2
   },
   "file_extension": ".py",
   "mimetype": "text/x-python",
   "name": "python",
   "nbconvert_exporter": "python",
   "pygments_lexer": "ipython2",
   "version": "2.7.11"
  }
 },
 "nbformat": 4,
 "nbformat_minor": 2
}
