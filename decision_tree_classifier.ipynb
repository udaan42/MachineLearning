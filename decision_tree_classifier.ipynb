{
 "cells": [
  {
   "cell_type": "markdown",
   "metadata": {},
   "source": [
    "## Import Packages"
   ]
  },
  {
   "cell_type": "code",
   "execution_count": 6,
   "metadata": {
    "collapsed": false
   },
   "outputs": [],
   "source": [
    "import csv\n",
    "import numpy as np\n",
    "from sklearn.cross_validation import KFold\n",
    "from sklearn.metrics import accuracy_score\n",
    "from sklearn.metrics import confusion_matrix\n",
    "from sklearn import tree"
   ]
  },
  {
   "cell_type": "markdown",
   "metadata": {},
   "source": [
    "## Extract Data"
   ]
  },
  {
   "cell_type": "code",
   "execution_count": 7,
   "metadata": {
    "collapsed": false
   },
   "outputs": [],
   "source": [
    "def findCommunities(filename):\n",
    "    communities = []\n",
    "    with open(filename, 'r') as csvfile:\n",
    "        filereader = csv.reader(csvfile)\n",
    "        j = 0\n",
    "        for i in filereader:\n",
    "            if j > 0:\n",
    "                if i[1] not in communities:\n",
    "                    communities.append(i[1])\n",
    "            j+=1\n",
    "    return communities\n",
    "def extractData(filename,communities,addstate = False,addcommunity = False):\n",
    "    features = []\n",
    "    xPositive=[]\n",
    "    yPositive=[]\n",
    "    xNegative=[]\n",
    "    yNegative =[]\n",
    "    with open(filename, 'r') as csvfile:\n",
    "        filereader = csv.reader(csvfile)\n",
    "        j = 0\n",
    "        for i in filereader:\n",
    "            if j > 0:\n",
    "                data = i[3:len(i)-1]\n",
    "                if addstate:\n",
    "                    state = [0.0]*56\n",
    "                    state[int(i[0])-1] = 1.0\n",
    "                    data = data + state\n",
    "                    features = features + [\"state\"+str(i) for i in range(56)]\n",
    "                if addcommunity:\n",
    "                    tmp = [0.0]*len(communities)\n",
    "                    tmp[communities.index(i[1])] = 1.0\n",
    "                    data = data + tmp\n",
    "                    features = features + communities\n",
    "                vect = np.array(data)\n",
    "                #vect = np.array(i[3:len(i)-1])\n",
    "                #x.append(vect.astype(np.float))\n",
    "                if float(i[-1]) > 0.1:\n",
    "                    xPositive.append(vect.astype(np.float))\n",
    "                    yPositive.append(1)\n",
    "                else:\n",
    "                    xNegative.append(vect.astype(np.float))\n",
    "                    yNegative.append(0)\n",
    "            else:\n",
    "                features = i[3:len(i)-1]\n",
    "            j+=1\n",
    "        \"\"\"yPositive = np.array(yPositive)\n",
    "        xPositive = np.array(xPositive)\n",
    "        yNegative = np.array(yNegative)\n",
    "        xNegative = np.array(xNegative)\"\"\"\n",
    "        features = np.array(features)\n",
    "        indxP = int(len(xPositive)*.6)\n",
    "        indxN = int(len(xNegative)*.6)\n",
    "        xTrain =np.array(xPositive[:indxP] + xNegative[:indxN])\n",
    "        yTrain = np.array(yPositive[:indxP] + yNegative[:indxN])\n",
    "        xTest = np.array(xPositive[indxP:] + xNegative[indxN:])\n",
    "        yTest = np.array(yPositive[indxP:] + yNegative[indxN:])\n",
    "        \n",
    "        \n",
    "            \n",
    "            \n",
    "        return xTrain,yTrain,xTest,yTest,features"
   ]
  },
  {
   "cell_type": "markdown",
   "metadata": {},
   "source": [
    "## Calculate Label Percentage"
   ]
  },
  {
   "cell_type": "code",
   "execution_count": 8,
   "metadata": {
    "collapsed": true
   },
   "outputs": [],
   "source": [
    "def calcualtePercentage(labels):\n",
    "    n = len(labels)\n",
    "    sumTrue = sum(labels)*1.0\n",
    "    sumFalse = (n - sumTrue)*1.0\n",
    "    return sumTrue/n,sumFalse/n"
   ]
  },
  {
   "cell_type": "markdown",
   "metadata": {},
   "source": [
    "## Create Model"
   ]
  },
  {
   "cell_type": "code",
   "execution_count": 9,
   "metadata": {
    "collapsed": true
   },
   "outputs": [],
   "source": [
    "def decisionTree():\n",
    "    return tree.DecisionTreeClassifier(class_weight=None, criterion='gini', max_depth=None,\n",
    "            max_features=None, max_leaf_nodes=None, min_samples_leaf=1,\n",
    "            min_samples_split=2, min_weight_fraction_leaf=0.0,\n",
    "            presort=False, random_state=None, splitter='best')"
   ]
  },
  {
   "cell_type": "markdown",
   "metadata": {},
   "source": [
    "## Evaluation"
   ]
  },
  {
   "cell_type": "code",
   "execution_count": 10,
   "metadata": {
    "collapsed": true
   },
   "outputs": [],
   "source": [
    "def confusionMatrix(true,predicted,labels = [1,0]):\n",
    "    return confusion_matrix(true,predicted,labels)\n",
    "\n",
    "def find_confusion_matrix(actual,predicted,clabels):\n",
    "    cm= []\n",
    "    for i in clabels:\n",
    "        tmp =[0]*len(clabels)\n",
    "        \n",
    "        for j in range(len(actual)):\n",
    "            if actual[j]== i and actual[j] == predicted[j]:\n",
    "                tmp[clabels.index(i)] += 1\n",
    "            elif actual[j]== i and actual[j] != predicted[j]:\n",
    "                tmp[clabels.index(predicted[j])] += 1\n",
    "        cm.append(tmp)\n",
    "    return np.array(cm)\n",
    "def find_accuracy(matrix):\n",
    "    return np.trace(matrix)*1.0/np.sum(matrix)\n",
    "def find_precision(matrix):\n",
    "    pres = []\n",
    "    x = np.sum(matrix,axis=0)\n",
    "    for i in range(len(matrix)):\n",
    "        for j in range(len(matrix)):\n",
    "            if i == j:\n",
    "                pres.append(matrix[i][j]*1.0/x[i])\n",
    "    return pres\n",
    "def find_recall(matrix):\n",
    "    rec = []\n",
    "    x = np.sum(matrix,axis=1)\n",
    "    for i in range(len(matrix)):\n",
    "        for j in range(len(matrix)):\n",
    "            if i == j:\n",
    "                rec.append(matrix[i][j]*1.0/x[i])\n",
    "    return rec\n",
    "def evaluation(acutal,predicted,clabels=[1,0]):\n",
    "    confmatrix = find_confusion_matrix(acutal,predicted,clabels)\n",
    "    print (\"Confusion Matrix\")\n",
    "    print (confmatrix)\n",
    "    accuracy = find_accuracy(confmatrix)\n",
    "    print (\"Accuracy\", accuracy)\n",
    "    precision = find_precision(confmatrix)\n",
    "    print (\"Precision\", precision)\n",
    "    recall = find_recall(confmatrix)\n",
    "    print (\"Recall\", recall)"
   ]
  },
  {
   "cell_type": "markdown",
   "metadata": {},
   "source": [
    "## Cross Validation"
   ]
  },
  {
   "cell_type": "code",
   "execution_count": 11,
   "metadata": {
    "collapsed": true
   },
   "outputs": [],
   "source": [
    "def do_cross_validation(X, y,clf, n_folds=5):\n",
    "    cv = KFold(len(y), n_folds, shuffle=True)\n",
    "    accuracies = []\n",
    "    i = 1\n",
    "    for train_ind, test_ind in cv: \n",
    "        clf.fit(X[train_ind], y[train_ind])\n",
    "        predictions = clf.predict(X[test_ind])\n",
    "        print (\"Fold %d Evaluation\" %i)\n",
    "        i +=1\n",
    "        evaluation(y[test_ind],predictions)\n",
    "        print (\"\\n\")\n",
    "        accuracies.append(accuracy_score(y[test_ind], predictions))\n",
    "    avg = np.mean(accuracies)\n",
    "    print (\"The average Accuracy is \", avg)"
   ]
  },
  {
   "cell_type": "markdown",
   "metadata": {},
   "source": [
    "### Read Data"
   ]
  },
  {
   "cell_type": "code",
   "execution_count": 12,
   "metadata": {
    "collapsed": true
   },
   "outputs": [],
   "source": [
    "filename = 'C:\\\\Users\\\\ar1\\\\Documents\\ML\\\\Project\\\\Crime Prediction Data(1)\\\\Crime Prediction Data\\\\communities-crime-clean.csv'\n",
    "distintCommunities = findCommunities(filename)\n",
    "XTrain,YTrain,XTest,YTest,Features = extractData(filename, distintCommunities)"
   ]
  },
  {
   "cell_type": "markdown",
   "metadata": {},
   "source": [
    "### Percentage of Labels"
   ]
  },
  {
   "cell_type": "code",
   "execution_count": 13,
   "metadata": {
    "collapsed": false
   },
   "outputs": [
    {
     "name": "stdout",
     "output_type": "stream",
     "text": [
      "Train Percentage (0.62761506276150625, 0.3723849372384937)\n",
      "Test Percentage (0.62656641604010022, 0.37343358395989973)\n"
     ]
    }
   ],
   "source": [
    "print (\"Train Percentage\",calcualtePercentage(YTrain))\n",
    "print (\"Test Percentage\",calcualtePercentage(YTest))"
   ]
  },
  {
   "cell_type": "markdown",
   "metadata": {},
   "source": [
    "### Default Decision Tree Model"
   ]
  },
  {
   "cell_type": "code",
   "execution_count": 14,
   "metadata": {
    "collapsed": false
   },
   "outputs": [
    {
     "name": "stdout",
     "output_type": "stream",
     "text": [
      "Confusion Matrix\n",
      "[[393 107]\n",
      " [111 187]]\n",
      "Accuracy 0.726817042607\n",
      "Precision [0.77976190476190477, 0.63605442176870752]\n",
      "Recall [0.78600000000000003, 0.62751677852348997]\n"
     ]
    }
   ],
   "source": [
    "model= decisionTree()\n",
    "model.fit(XTrain,YTrain)\n",
    "predictedY=model.predict(XTest)\n",
    "evaluation(YTest,predictedY)"
   ]
  },
  {
   "cell_type": "markdown",
   "metadata": {},
   "source": [
    "### 10 Fold Cross Validation on Default DecisionTree Model"
   ]
  },
  {
   "cell_type": "code",
   "execution_count": 15,
   "metadata": {
    "collapsed": false
   },
   "outputs": [
    {
     "name": "stdout",
     "output_type": "stream",
     "text": [
      "Fold 1 Evaluation\n",
      "Confusion Matrix\n",
      "[[60 16]\n",
      " [10 34]]\n",
      "Accuracy 0.783333333333\n",
      "Precision [0.8571428571428571, 0.68000000000000005]\n",
      "Recall [0.78947368421052633, 0.77272727272727271]\n",
      "\n",
      "\n",
      "Fold 2 Evaluation\n",
      "Confusion Matrix\n",
      "[[67  9]\n",
      " [12 32]]\n",
      "Accuracy 0.825\n",
      "Precision [0.84810126582278478, 0.78048780487804881]\n",
      "Recall [0.88157894736842102, 0.72727272727272729]\n",
      "\n",
      "\n",
      "Fold 3 Evaluation\n",
      "Confusion Matrix\n",
      "[[59 14]\n",
      " [12 35]]\n",
      "Accuracy 0.783333333333\n",
      "Precision [0.83098591549295775, 0.7142857142857143]\n",
      "Recall [0.80821917808219179, 0.74468085106382975]\n",
      "\n",
      "\n",
      "Fold 4 Evaluation\n",
      "Confusion Matrix\n",
      "[[61 13]\n",
      " [14 32]]\n",
      "Accuracy 0.775\n",
      "Precision [0.81333333333333335, 0.71111111111111114]\n",
      "Recall [0.82432432432432434, 0.69565217391304346]\n",
      "\n",
      "\n",
      "Fold 5 Evaluation\n",
      "Confusion Matrix\n",
      "[[68 10]\n",
      " [15 27]]\n",
      "Accuracy 0.791666666667\n",
      "Precision [0.81927710843373491, 0.72972972972972971]\n",
      "Recall [0.87179487179487181, 0.6428571428571429]\n",
      "\n",
      "\n",
      "Fold 6 Evaluation\n",
      "Confusion Matrix\n",
      "[[76 12]\n",
      " [ 8 23]]\n",
      "Accuracy 0.831932773109\n",
      "Precision [0.90476190476190477, 0.65714285714285714]\n",
      "Recall [0.86363636363636365, 0.74193548387096775]\n",
      "\n",
      "\n",
      "Fold 7 Evaluation\n",
      "Confusion Matrix\n",
      "[[57 15]\n",
      " [13 34]]\n",
      "Accuracy 0.764705882353\n",
      "Precision [0.81428571428571428, 0.69387755102040816]\n",
      "Recall [0.79166666666666663, 0.72340425531914898]\n",
      "\n",
      "\n",
      "Fold 8 Evaluation\n",
      "Confusion Matrix\n",
      "[[63 13]\n",
      " [15 28]]\n",
      "Accuracy 0.764705882353\n",
      "Precision [0.80769230769230771, 0.68292682926829273]\n",
      "Recall [0.82894736842105265, 0.65116279069767447]\n",
      "\n",
      "\n",
      "Fold 9 Evaluation\n",
      "Confusion Matrix\n",
      "[[53 14]\n",
      " [18 34]]\n",
      "Accuracy 0.731092436975\n",
      "Precision [0.74647887323943662, 0.70833333333333337]\n",
      "Recall [0.79104477611940294, 0.65384615384615385]\n",
      "\n",
      "\n",
      "Fold 10 Evaluation\n",
      "Confusion Matrix\n",
      "[[53 17]\n",
      " [19 30]]\n",
      "Accuracy 0.697478991597\n",
      "Precision [0.73611111111111116, 0.63829787234042556]\n",
      "Recall [0.75714285714285712, 0.61224489795918369]\n",
      "\n",
      "\n",
      "The average Accuracy is  0.774824929972\n"
     ]
    }
   ],
   "source": [
    "do_cross_validation(XTrain,YTrain,model,10)"
   ]
  },
  {
   "cell_type": "markdown",
   "metadata": {},
   "source": [
    "### Top 10 important features "
   ]
  },
  {
   "cell_type": "code",
   "execution_count": 17,
   "metadata": {
    "collapsed": false
   },
   "outputs": [
    {
     "name": "stdout",
     "output_type": "stream",
     "text": [
      "['PctKids2Par' 'racePctWhite' 'PctBornSameState' 'PctPersDenseHous'\n",
      " 'PersPerOwnOccHous' 'agePct12t29' 'PctLargHouseFam' 'agePct12t21'\n",
      " 'NumImmig' 'PctYoungKids2Par']\n"
     ]
    }
   ],
   "source": [
    "coef = model.feature_importances_\n",
    "topindx = np.argsort(coef)[::-1][:10]\n",
    "print (Features[topindx])\n"
   ]
  }
 ],
 "metadata": {
  "kernelspec": {
   "display_name": "Python 2",
   "language": "python",
   "name": "python2"
  },
  "language_info": {
   "codemirror_mode": {
    "name": "ipython",
    "version": 2
   },
   "file_extension": ".py",
   "mimetype": "text/x-python",
   "name": "python",
   "nbconvert_exporter": "python",
   "pygments_lexer": "ipython2",
   "version": "2.7.11"
  }
 },
 "nbformat": 4,
 "nbformat_minor": 2
}
