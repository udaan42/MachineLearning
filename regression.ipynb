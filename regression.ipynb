{
 "cells": [
  {
   "cell_type": "markdown",
   "metadata": {},
   "source": [
    "## Import Packages"
   ]
  },
  {
   "cell_type": "code",
   "execution_count": 87,
   "metadata": {
    "collapsed": false
   },
   "outputs": [],
   "source": [
    "import csv\n",
    "import numpy as np\n",
    "from sklearn.cross_validation import KFold\n",
    "from sklearn.metrics import accuracy_score\n",
    "from sklearn.metrics import confusion_matrix\n",
    "from sklearn.linear_model import LinearRegression\n",
    "from sklearn.linear_model import Ridge\n",
    "from sklearn.preprocessing import PolynomialFeatures"
   ]
  },
  {
   "cell_type": "markdown",
   "metadata": {},
   "source": [
    "## Extract Data"
   ]
  },
  {
   "cell_type": "code",
   "execution_count": 88,
   "metadata": {
    "collapsed": false
   },
   "outputs": [],
   "source": [
    "def findCommunities(filename):\n",
    "    communities = []\n",
    "    with open(filename, 'r') as csvfile:\n",
    "        filereader = csv.reader(csvfile)\n",
    "        j = 0\n",
    "        for i in filereader:\n",
    "            if j > 0:\n",
    "                if i[1] not in communities:\n",
    "                    communities.append(i[1])\n",
    "            j+=1\n",
    "    return communities\n",
    "def extractData(filename,communities,addstate = False,addcommunity = False):\n",
    "    features = []\n",
    "    x =[]\n",
    "    y=[]\n",
    "    with open(filename, 'r') as csvfile:\n",
    "        filereader = csv.reader(csvfile)\n",
    "        j = 0\n",
    "        for i in filereader:\n",
    "            if j > 0:\n",
    "                data = i[3:len(i)-1]\n",
    "                if addstate:\n",
    "                    state = [0.0]*56\n",
    "                    state[int(i[0])-1] = 1.0\n",
    "                    data = data + state\n",
    "                    features = features + [\"state\"+str(i) for i in range(56)]\n",
    "                if addcommunity:\n",
    "                    tmp = [0.0]*len(communities)\n",
    "                    tmp[communities.index(i[1])] = 1.0\n",
    "                    data = data + tmp\n",
    "                    features = features + communities\n",
    "                vect = np.array(data)\n",
    "                #vect = np.array(i[3:len(i)-1])\n",
    "                #x.append(vect.astype(np.float))\n",
    "                x.append(vect.astype(np.float))\n",
    "                y.append(float(i[-1]))\n",
    "            else:\n",
    "                features = i[3:len(i)-1]\n",
    "            j+=1\n",
    "        features = np.array(features)\n",
    "        indx = int(len(x)*.65)\n",
    "        xTrain =np.array(x[:indx])\n",
    "        yTrain = np.array(y[:indx])\n",
    "        xTest = np.array(x[indx:])\n",
    "        yTest = np.array(y[indx:])\n",
    "        \n",
    "            \n",
    "        return xTrain,yTrain,xTest,yTest,features"
   ]
  },
  {
   "cell_type": "markdown",
   "metadata": {},
   "source": [
    "## Create Model"
   ]
  },
  {
   "cell_type": "code",
   "execution_count": 89,
   "metadata": {
    "collapsed": true
   },
   "outputs": [],
   "source": [
    "def polyData(Data,degree):\n",
    "    poly = PolynomialFeatures(degree)\n",
    "    return poly.fit_transform(Data)"
   ]
  },
  {
   "cell_type": "code",
   "execution_count": 90,
   "metadata": {
    "collapsed": true
   },
   "outputs": [],
   "source": [
    "def ridgeRegression(alpha = 1.0):\n",
    "    return Ridge(alpha=alpha, fit_intercept=True, normalize=False, copy_X=True,\n",
    "                 max_iter=None, tol=0.001, solver='auto', random_state=None)"
   ]
  },
  {
   "cell_type": "code",
   "execution_count": 91,
   "metadata": {
    "collapsed": true
   },
   "outputs": [],
   "source": [
    "def linearRegression():\n",
    "    return LinearRegression()"
   ]
  },
  {
   "cell_type": "markdown",
   "metadata": {},
   "source": [
    "## Evaluation - Mean Squared Error"
   ]
  },
  {
   "cell_type": "code",
   "execution_count": 92,
   "metadata": {
    "collapsed": true
   },
   "outputs": [],
   "source": [
    "def meanSquaredError(true,predict):\n",
    "    print(\"Mean squared error: %.4f\"\n",
    "      % np.mean((predict-true) ** 2))"
   ]
  },
  {
   "cell_type": "code",
   "execution_count": 93,
   "metadata": {
    "collapsed": true
   },
   "outputs": [],
   "source": [
    "def meanSquaredError1(true,predict):\n",
    "    return np.mean((predict-true) ** 2)"
   ]
  },
  {
   "cell_type": "markdown",
   "metadata": {},
   "source": [
    "## Cross Validation"
   ]
  },
  {
   "cell_type": "code",
   "execution_count": 94,
   "metadata": {
    "collapsed": true
   },
   "outputs": [],
   "source": [
    "def do_cross_validation(X, y,clf, n_folds=5):\n",
    "    cv = KFold(len(y), n_folds, shuffle=True)\n",
    "    accuracies = []\n",
    "    i = 1\n",
    "    mse = []\n",
    "    for train_ind, test_ind in cv: \n",
    "        clf.fit(X[train_ind], y[train_ind])\n",
    "        predictions = clf.predict(X[test_ind])\n",
    "        print (\"Fold %d Evaluation\" %i)\n",
    "        i +=1\n",
    "        meanSquaredError(y[test_ind],predictions)\n",
    "        mse.append(meanSquaredError1(y[test_ind],predictions))\n",
    "        print (\"\\n\")\n",
    "    return np.mean(mse)"
   ]
  },
  {
   "cell_type": "markdown",
   "metadata": {},
   "source": [
    "### Test Alpha"
   ]
  },
  {
   "cell_type": "code",
   "execution_count": 95,
   "metadata": {
    "collapsed": true
   },
   "outputs": [],
   "source": [
    "def testAlpha(XTrain,YTrain,XTest,YTest,alpha_list):\n",
    "    for i in alpha_list:\n",
    "        ridgeReg= ridgeRegression(alpha = i)\n",
    "        ridgeReg.fit(XTrain,YTrain)\n",
    "        predictedY=ridgeReg.predict(XTest)\n",
    "        meanSquaredError(predictedY,YTest)"
   ]
  },
  {
   "cell_type": "markdown",
   "metadata": {},
   "source": [
    "### Read Data"
   ]
  },
  {
   "cell_type": "code",
   "execution_count": 96,
   "metadata": {
    "collapsed": false
   },
   "outputs": [],
   "source": [
    "filename = 'C:\\\\Users\\\\ar1\\\\Documents\\ML\\\\Project\\\\Crime Prediction Data(1)\\\\Crime Prediction Data\\\\communities-crime-clean.csv'\n",
    "distintCommunities = findCommunities(filename)\n",
    "XTrain,YTrain,XTest,YTest,Features = extractData(filename, distintCommunities)"
   ]
  },
  {
   "cell_type": "markdown",
   "metadata": {},
   "source": [
    "### Default Linear Regression Model"
   ]
  },
  {
   "cell_type": "code",
   "execution_count": 97,
   "metadata": {
    "collapsed": false
   },
   "outputs": [
    {
     "name": "stdout",
     "output_type": "stream",
     "text": [
      "Mean squared error: 0.0177\n"
     ]
    }
   ],
   "source": [
    "model= linearRegression()\n",
    "model.fit(XTrain,YTrain)\n",
    "predictedY=model.predict(XTest)\n",
    "meanSquaredError(YTest,predictedY)"
   ]
  },
  {
   "cell_type": "markdown",
   "metadata": {},
   "source": [
    "### 10 Fold Cross Validation on Default Linear Regression Model"
   ]
  },
  {
   "cell_type": "code",
   "execution_count": 98,
   "metadata": {
    "collapsed": false
   },
   "outputs": [
    {
     "name": "stdout",
     "output_type": "stream",
     "text": [
      "Fold 1 Evaluation\n",
      "Mean squared error: 0.0197\n",
      "\n",
      "\n",
      "Fold 2 Evaluation\n",
      "Mean squared error: 0.0219\n",
      "\n",
      "\n",
      "Fold 3 Evaluation\n",
      "Mean squared error: 0.0222\n",
      "\n",
      "\n",
      "Fold 4 Evaluation\n",
      "Mean squared error: 0.0195\n",
      "\n",
      "\n",
      "Fold 5 Evaluation\n",
      "Mean squared error: 0.0242\n",
      "\n",
      "\n",
      "Fold 6 Evaluation\n",
      "Mean squared error: 0.0217\n",
      "\n",
      "\n",
      "Fold 7 Evaluation\n",
      "Mean squared error: 0.0276\n",
      "\n",
      "\n",
      "Fold 8 Evaluation\n",
      "Mean squared error: 0.0152\n",
      "\n",
      "\n",
      "Fold 9 Evaluation\n",
      "Mean squared error: 0.0209\n",
      "\n",
      "\n",
      "Fold 10 Evaluation\n",
      "Mean squared error: 0.0180\n",
      "\n",
      "\n"
     ]
    },
    {
     "data": {
      "text/plain": [
       "0.021081737431193504"
      ]
     },
     "execution_count": 98,
     "metadata": {},
     "output_type": "execute_result"
    }
   ],
   "source": [
    "do_cross_validation(XTrain,YTrain,model,10)"
   ]
  },
  {
   "cell_type": "markdown",
   "metadata": {},
   "source": [
    "### Top 10 important features in Linear Regression model"
   ]
  },
  {
   "cell_type": "code",
   "execution_count": 99,
   "metadata": {
    "collapsed": false
   },
   "outputs": [
    {
     "name": "stdout",
     "output_type": "stream",
     "text": [
      "['PersPerOccupHous' 'PctRecImmig8' 'MalePctNevMarr' 'PctPersDenseHous'\n",
      " 'medFamInc' 'agePct12t21' 'MedRent' 'pctWSocSec' 'PctEmploy'\n",
      " 'MalePctDivorce']\n"
     ]
    }
   ],
   "source": [
    "FeatureEval = model.coef_\n",
    "topFeature = np.argsort(FeatureEval)[::-1][:10]\n",
    "print (Features[topFeature])"
   ]
  },
  {
   "cell_type": "markdown",
   "metadata": {},
   "source": [
    "### MSE on all Data Linear Regression"
   ]
  },
  {
   "cell_type": "code",
   "execution_count": 81,
   "metadata": {
    "collapsed": false
   },
   "outputs": [
    {
     "name": "stdout",
     "output_type": "stream",
     "text": [
      "Mean squared error: 0.0165\n"
     ]
    }
   ],
   "source": [
    "X = np.concatenate((XTrain,XTest),axis=0)\n",
    "Y = np.concatenate((YTrain,YTest),axis=0)\n",
    "model.fit(X,Y)\n",
    "predictedY=model.predict(X)\n",
    "meanSquaredError(Y,predictedY)"
   ]
  },
  {
   "cell_type": "markdown",
   "metadata": {},
   "source": [
    "3-a-ii) What is the MSE on the training set (train on all the data then test on it all)?\n",
    "\n",
    "Explaination : The MSE on the training set is 0.0177. For this case, we have considered the entire set provided. "
   ]
  },
  {
   "cell_type": "markdown",
   "metadata": {},
   "source": [
    "### Default Ridge Regression Model"
   ]
  },
  {
   "cell_type": "code",
   "execution_count": 82,
   "metadata": {
    "collapsed": false
   },
   "outputs": [
    {
     "name": "stdout",
     "output_type": "stream",
     "text": [
      "Mean squared error: 0.0172\n"
     ]
    }
   ],
   "source": [
    "model= ridgeRegression()\n",
    "model.fit(XTrain,YTrain)\n",
    "predictedY=model.predict(XTest)\n",
    "meanSquaredError(YTest,predictedY)"
   ]
  },
  {
   "cell_type": "markdown",
   "metadata": {},
   "source": [
    "### 10 Fold Cross Validation on Default Ridge Regression Model"
   ]
  },
  {
   "cell_type": "code",
   "execution_count": 83,
   "metadata": {
    "collapsed": false
   },
   "outputs": [
    {
     "name": "stdout",
     "output_type": "stream",
     "text": [
      "Fold 1 Evaluation\n",
      "Mean squared error: 0.0165\n",
      "\n",
      "\n",
      "Fold 2 Evaluation\n",
      "Mean squared error: 0.0202\n",
      "\n",
      "\n",
      "Fold 3 Evaluation\n",
      "Mean squared error: 0.0199\n",
      "\n",
      "\n",
      "Fold 4 Evaluation\n",
      "Mean squared error: 0.0199\n",
      "\n",
      "\n",
      "Fold 5 Evaluation\n",
      "Mean squared error: 0.0199\n",
      "\n",
      "\n",
      "Fold 6 Evaluation\n",
      "Mean squared error: 0.0195\n",
      "\n",
      "\n",
      "Fold 7 Evaluation\n",
      "Mean squared error: 0.0205\n",
      "\n",
      "\n",
      "Fold 8 Evaluation\n",
      "Mean squared error: 0.0233\n",
      "\n",
      "\n",
      "Fold 9 Evaluation\n",
      "Mean squared error: 0.0206\n",
      "\n",
      "\n",
      "Fold 10 Evaluation\n",
      "Mean squared error: 0.0218\n",
      "\n",
      "\n"
     ]
    },
    {
     "data": {
      "text/plain": [
       "0.020207582075637373"
      ]
     },
     "execution_count": 83,
     "metadata": {},
     "output_type": "execute_result"
    }
   ],
   "source": [
    "do_cross_validation(XTrain,YTrain,model,10)"
   ]
  },
  {
   "cell_type": "markdown",
   "metadata": {},
   "source": [
    "3-b-i.\tWhat is the estimated MSE of the model under 10-fold CV?\n",
    "\n",
    "The MSE of Ridge regression under 10 - fold CV can be found above."
   ]
  },
  {
   "cell_type": "markdown",
   "metadata": {},
   "source": [
    "### Top 10 important features in Ridge Regression model"
   ]
  },
  {
   "cell_type": "code",
   "execution_count": 84,
   "metadata": {
    "collapsed": false
   },
   "outputs": [
    {
     "name": "stdout",
     "output_type": "stream",
     "text": [
      "['PctPersDenseHous' 'NumStreet' 'MalePctNevMarr' 'racepctblack' 'MedRent'\n",
      " 'PctIlleg' 'pctWSocSec' 'PctEmploy' 'MalePctDivorce' 'PctOccupManu']\n"
     ]
    }
   ],
   "source": [
    "coef = model.coef_\n",
    "topindx = np.argsort(coef)[::-1][:10]\n",
    "print (Features[topindx])\n"
   ]
  },
  {
   "cell_type": "markdown",
   "metadata": {},
   "source": [
    "### MSE on all Data Ridge Regression"
   ]
  },
  {
   "cell_type": "code",
   "execution_count": 57,
   "metadata": {
    "collapsed": false
   },
   "outputs": [
    {
     "name": "stdout",
     "output_type": "stream",
     "text": [
      "Mean squared error: 0.0168\n"
     ]
    }
   ],
   "source": [
    "X = np.concatenate((XTrain,XTest),axis=0)\n",
    "Y = np.concatenate((YTrain,YTest),axis=0)\n",
    "model.fit(X,Y)\n",
    "predictedY=model.predict(X)\n",
    "meanSquaredError(Y,predictedY)"
   ]
  },
  {
   "cell_type": "markdown",
   "metadata": {},
   "source": [
    "### Alpha Test"
   ]
  },
  {
   "cell_type": "code",
   "execution_count": 58,
   "metadata": {
    "collapsed": false
   },
   "outputs": [
    {
     "name": "stdout",
     "output_type": "stream",
     "text": [
      "Mean squared error: 0.0173\n",
      "Mean squared error: 0.0172\n",
      "Mean squared error: 0.0175\n",
      "Mean squared error: 0.0177\n",
      "Mean squared error: 0.0177\n"
     ]
    }
   ],
   "source": [
    "alphaList = [10,1,0.1,.01,.001]\n",
    "testAlpha(XTrain,YTrain,XTest,YTest,alphaList)"
   ]
  },
  {
   "cell_type": "markdown",
   "metadata": {},
   "source": [
    "## Polynomial Features"
   ]
  },
  {
   "cell_type": "code",
   "execution_count": 61,
   "metadata": {
    "collapsed": false
   },
   "outputs": [],
   "source": [
    "poly = PolynomialFeatures(2)\n",
    "polyXTrain = poly.fit_transform(XTrain,2)\n",
    "polyXTest =  poly.transform(XTest,2)"
   ]
  },
  {
   "cell_type": "code",
   "execution_count": 62,
   "metadata": {
    "collapsed": false
   },
   "outputs": [
    {
     "name": "stdout",
     "output_type": "stream",
     "text": [
      "Mean squared error: 0.0213\n"
     ]
    }
   ],
   "source": [
    "model= ridgeRegression()\n",
    "model.fit(polyXTrain,YTrain)\n",
    "predictedY=model.predict(polyXTest)\n",
    "meanSquaredError(YTest,predictedY)"
   ]
  },
  {
   "cell_type": "code",
   "execution_count": 64,
   "metadata": {
    "collapsed": false
   },
   "outputs": [
    {
     "name": "stdout",
     "output_type": "stream",
     "text": [
      "Fold 1 Evaluation\n",
      "Mean squared error: 0.0171\n",
      "\n",
      "\n",
      "Fold 2 Evaluation\n",
      "Mean squared error: 0.0281\n",
      "\n",
      "\n",
      "Fold 3 Evaluation\n",
      "Mean squared error: 0.0352\n",
      "\n",
      "\n",
      "Fold 4 Evaluation\n",
      "Mean squared error: 0.0234\n",
      "\n",
      "\n",
      "Fold 5 Evaluation\n",
      "Mean squared error: 0.0249\n",
      "\n",
      "\n",
      "Fold 6 Evaluation\n",
      "Mean squared error: 0.0203\n",
      "\n",
      "\n",
      "Fold 7 Evaluation\n",
      "Mean squared error: 0.0282\n",
      "\n",
      "\n",
      "Fold 8 Evaluation\n",
      "Mean squared error: 0.0198\n",
      "\n",
      "\n",
      "Fold 9 Evaluation\n",
      "Mean squared error: 0.0220\n",
      "\n",
      "\n",
      "Fold 10 Evaluation\n",
      "Mean squared error: 0.0224\n",
      "\n",
      "\n"
     ]
    },
    {
     "data": {
      "text/plain": [
       "0.024139470981724385"
      ]
     },
     "execution_count": 64,
     "metadata": {},
     "output_type": "execute_result"
    }
   ],
   "source": [
    "do_cross_validation(polyXTrain,YTrain,model,10)"
   ]
  },
  {
   "cell_type": "code",
   "execution_count": 85,
   "metadata": {
    "collapsed": false
   },
   "outputs": [
    {
     "name": "stdout",
     "output_type": "stream",
     "text": [
      "Mean squared error: 0.0080\n"
     ]
    }
   ],
   "source": [
    "X = np.concatenate((polyXTrain,polyXTest),axis=0)\n",
    "Y = np.concatenate((YTrain,YTest),axis=0)\n",
    "model= ridgeRegression()\n",
    "model.fit(X,Y)\n",
    "predictedY=model.predict(X)\n",
    "meanSquaredError(Y,predictedY)"
   ]
  }
 ],
 "metadata": {
  "kernelspec": {
   "display_name": "Python 2",
   "language": "python",
   "name": "python2"
  },
  "language_info": {
   "codemirror_mode": {
    "name": "ipython",
    "version": 2
   },
   "file_extension": ".py",
   "mimetype": "text/x-python",
   "name": "python",
   "nbconvert_exporter": "python",
   "pygments_lexer": "ipython2",
   "version": "2.7.11"
  }
 },
 "nbformat": 4,
 "nbformat_minor": 2
}
